{
  "nbformat": 4,
  "nbformat_minor": 0,
  "metadata": {
    "colab": {
      "private_outputs": true,
      "provenance": [],
      "gpuType": "T4",
      "name": "Aphrodite",
      "include_colab_link": true
    },
    "kernelspec": {
      "name": "python3",
      "display_name": "Python 3"
    },
    "language_info": {
      "name": "python"
    },
    "accelerator": "GPU"
  },
  "cells": [
    {
      "cell_type": "markdown",
      "metadata": {
        "id": "view-in-github",
        "colab_type": "text"
      },
      "source": [
        "<a href=\"https://colab.research.google.com/github/AlpinDale/misc-scripts/aphrolabs.ipynb\" target=\"_parent\"><img src=\"https://colab.research.google.com/assets/colab-badge.svg\" alt=\"Open In Colab\"/></a>"
      ]
    },
    {
      "cell_type": "markdown",
      "source": [
        "# **v-- Adjust the cells below if needed then use \"Runtime > Run All\" above OR you can manually run each cell in order**\n"
      ],
      "metadata": {
        "id": "bN4MWt2g6E9X"
      }
    },
    {
      "cell_type": "code",
      "metadata": {
        "id": "ewkXkyiFP2Hq"
      },
      "source": [
        "#@title <b>v-- Tap this if you play on Mobile</b> { display-mode: \"form\" }\n",
        "%%html\n",
        "<b>Press play on the music player to keep the tab alive, then start KoboldAI below (You can ignore this step if you used run all and are on PC)</b><br/>\n",
        "<audio src=\"https://raw.githubusercontent.com/KoboldAI/KoboldAI-Client/main/colab/silence.m4a\" controls>"
      ],
      "execution_count": null,
      "outputs": []
    },
    {
      "cell_type": "code",
      "execution_count": null,
      "metadata": {
        "id": "uJS9i_Dltv8Y",
        "cellView": "form"
      },
      "outputs": [],
      "source": [
        "#@title <b><-- Currently only GPTQ quantization is supported. For AWQ, please upgrade to Colab Pro</b>",
        "#@markdown Currently only GPTQ quantization is supported. For AWQ, please upgrade to Colab Pro",
        "Model = "TheBloke/Mythalion-13B-GPTQ" #@param [""]{allow-input: true}",
        "Quantization = "gptq" #@param ["awq", 'gptq', "None"]",
        "!pip uninstall aphrodite-engine -y",
        "!wget -O aphrodite_engine-0.3.4-cp310-cp310-manylinux1_x86_64.whl http://0x0.st/HWla.whl && pip install aphrodite_engine-0.3.4-cp310-cp310-manylinux1_x86_64.whl",
        "!wget -c https://github.com/cloudflare/cloudflared/releases/latest/download/cloudflared-linux-amd64",
        "!chmod +x cloudflared-linux-amd64,
        "!nohup ./cloudflared-linux-amd64 tunnel --url http://127.0.0.1:2242 &",
        "!sleep 10",
        "!cat nohup.out",
        "!python -m aphrodite.endpoints.api_server_kobold --model $Model --dtype float16 --host 127.0.0.1 --quantization gptq --gpu-memory-utilization 0.88 &",
      ]
    }
  ]
}
